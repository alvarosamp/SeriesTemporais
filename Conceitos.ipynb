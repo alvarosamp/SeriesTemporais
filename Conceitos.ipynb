{
 "cells": [
  {
   "cell_type": "markdown",
   "id": "ffe8cab8",
   "metadata": {},
   "source": [
    " análise  de  séries  temporais  se  preocupa  em  entender  os  padrões  e tendências em dados passados, enquanto a previsão de séries temporais se preocupa em usar esses padrões e tendências para fazer previsões sobre o futuro"
   ]
  },
  {
   "cell_type": "markdown",
   "id": "b19adb23",
   "metadata": {},
   "source": [
    "**COMPONENTES DE UMA SÉRIE TEMPORAL**\n",
    "\n",
    "**Tendencia :** Direção geral da série temporal, como uma tendência ascendente ou descendente. Uma tendência pode ser a longo ou a curto prazo.\n",
    "\n",
    "**Sazonalidade :** Refere-se a padroes regulares e repetidos nos dados que ocorrem em um periodo de tempo específico, como diariamente,semanalmente, mensalmente ou anualmente. \n",
    "\n",
    "**Ciclos :** Um ciclo é um padrao que se repete por um periodo de tempo mais longo do que a sazionalidade, como um ciclo de negocios que dura vários anos.\n",
    "\n",
    "**Irregularidade ou Ruido :** A irregularidade, tambem conhecido como ruido, é o componente aleatório e imprevisivel de uma série temporal. Pode ser causada por uma variedade de fatores, como eventos inesperados ou flutuações aleatórias\n",
    "\n",
    "**Nivel :** O nivel de uma serie temporal é o valor médio da série durante um periodo de tempo.\n",
    "\n",
    "**Valor observado :** É o dado prorpieamente dito"
   ]
  },
  {
   "cell_type": "markdown",
   "id": "e4a53f26",
   "metadata": {},
   "source": [
    "**Análise de tendência :** \n",
    "Refere-se a direção geral dos dados ao longo do tempo, como uma tendencia ascendente ou uma tendencia descentente. \n",
    "A tendencia é observada observando os dados ao longo do tempo. Por exemplos, se os dados aumentam ou diminuem ao longo do tempo, ai dizemos que ele tem uma tendencia negativa ou positiva. Se os dados sao estáveis e exibem pouca mudança ao longo do tempo, diz-se que tem uma tendencai plana\n",
    "É importante  a parte dessa analise  para entender os padroes e tendencias nos dados e fazer previsoes sore valores futuros. Para lidarmos com essa técnica temos algumas medidas **médias moveis, suavização, exponencial e regressão linear.**\n",
    "\n"
   ]
  },
  {
   "cell_type": "markdown",
   "id": "443a4e39",
   "metadata": {},
   "source": [
    "**Análise de sazionalidade :** \n",
    "\n",
    "A analise de sazionalidade se refere a padores regulares e repetidos nos dados que ocorrem em um tempo especifico, como diariamente, semanalmente, mensalmente ou anulamente. Essa sazionalidade pode ser causada por varios fatores, mudanças no clima, comportamento do consumidor ou condições economicas.\n",
    "\n",
    "Exemplo: Roupas de inveno podem ser mais compradas nos meses de inverno devido ao clima mais frio.\n",
    "\n",
    "A sazionalidade pode se observada em dados de series temporais observando um grafico dos dados ao longo do tempo. Se os dados eibem padroes regulares e repetidos durante um periodo de tempo especifico, dizemos que sao sazionais. **A sazionalidade pode ser quantificada usando técnicas estatísticas como decomposição ou análise espectral.**\n",
    "\n",
    "É de suma importancia entender a sazionalidade pois pode afetar a precisao das previsoes e a interpretação das tendencias nos dados. Por exemplo. Se uma serie temporal apresenar forte sazionalidade, pode ser necessario remover o componente sazonal antes de analisar a tendecia ou faze previsoes. Pode ser feito usando **técnicas como decomposição sazional ou ajuste sazional**\n",
    "\n",
    "\n"
   ]
  },
  {
   "cell_type": "markdown",
   "id": "c899bf81",
   "metadata": {},
   "source": [
    "**Análise de Estacionariedade :** \n",
    "\n",
    "Conceito de como uma variavel é caracterizada por uma variavel que se comporta de forma aleatoria ao longo do tempo ao redor de uma média constante.\n",
    "\n",
    "A estacionariedade se refere a propriedade de uma serie temporal na qual as propriedades estatisticas(como média, variancia, e autocorrelação) sao constantes ao longo do tempo do tempo. Uma série temportal estácionária é aquela que exibe pouca ou nenhuma tendencia, sazonalidade ou mudaçãs nas propriedades estatisticas ao longo de um tempo\n",
    "\n",
    "-> Temos alguns tipos de estacionaridade na analise de series temporais:\n",
    "\n",
    "**Estacionaria estrita :** Uma série temporal é estritamente estacionária se a distribuição de probablilidade dos valores permanecer a mesma ao longo do tempo. Isso significa que a media, a variancia e a autocorrelação da serie nao mudam com o tempo\n",
    "\n",
    "**Estacionária fraca :** Uma serie fracamente estacionaria se a media e a variancia da serie nao mudam com o tempo, mas a autocorrelação pode variar.\n",
    "\n",
    "**Estacionaria de tendencia :** Ocorre quando uma serie temporal exibe uma tendencia constante ao longo do tempo, mas a media e a variancia pode mudar \n",
    "\n",
    "**Estacionaria sazonal :** Uma serie temporal é estacionaria sazonal se exibir um padrao de sazonaliade constante ao longo do tempo, mas a media e a variancia podem mudar\n",
    "\n",
    "É um termo importante pq muitas das técnicas estatisticas, como previsao e teste de hipoteses, sao baseadas na suposição de que os dados sao estacionarios. Se uma serie temporal for nao estacionaria (iu sejam exibir tendencias, sazonalidade ou mudanças nas propriedades estatísticas ao longo do tempo ), pode ser necesasrio transformar os dadsos ou remover os componentes nao estacionarios antes de aplicar essas técnicas\n",
    "\n",
    "\n",
    "\n"
   ]
  },
  {
   "cell_type": "markdown",
   "id": "d90d47a5",
   "metadata": {},
   "source": [
    "## Métodos classicos de series temporais \n",
    "\n",
    "Não sao modelos classificados como inteligencia artificial, mas podem ser uteis em situações que a explicabilidade do processo de analise ou previsao.\n",
    "\n",
    "Os principais métodos classicos de análise de séries temporais:\n",
    "\n",
    "**Modelo Autorregressivo (AR - AutoRegressive) :** Um modelo autorregressivo é um modelo estatístico que explica uma serie temporal em termos de seus valores passados. Um modelo AR assume que o valor atual da série temporal é uma função linear de seus valores passados, com um cojunto de parametros que determinam a força do relacionamento\n",
    "\n",
    "**Modelo de Média Movel(MA - Moving Average) :** Um modelo de média movel é um modelo estatistico que explica uma série temporal em termos de erros ou residuos a partir da média móvel. Um modelo MA assume que o valor atual da serie temporal é uma função linear dos erros ou residusos da média móvel, com um conjunto de parametros que determinam força da relação.\n",
    "\n",
    "**Modelo de média móvel integreda autorregressiva (ARIMA - AutoRegressive Integrated Moving Average) :** Um modelo de média móvel integrada autorregressiva é um modelo estatístico que combina os modelos autorregressivos (AR) e de média móvel(MA). Um modelo ARIMA pode ser usado para analisar e prever dados de series temporais que exibem tendencias e sazionalidade. O modelo ARIMA tem duas variações : SARIMA e ARIMAX\n",
    "\n",
    "**Suavização Exponencial (Exponential Smoothing) :** A suavização exponencial é uma técnica estatisca que envolve ponderar os dados em uma serie temporal para que as observações mais recentes tenham maior influencia no valor médio. A suavização exponencial é frequentemente usado para prever valores futuros de uma serie temproal com base em  seus valores passados.\n"
   ]
  },
  {
   "cell_type": "markdown",
   "id": "e41daeb3",
   "metadata": {},
   "source": []
  }
 ],
 "metadata": {
  "kernelspec": {
   "display_name": ".venv",
   "language": "python",
   "name": "python3"
  },
  "language_info": {
   "name": "python",
   "version": "3.11.9"
  }
 },
 "nbformat": 4,
 "nbformat_minor": 5
}
