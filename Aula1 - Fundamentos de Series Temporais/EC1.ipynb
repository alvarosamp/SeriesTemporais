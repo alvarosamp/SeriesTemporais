{
 "cells": [
  {
   "cell_type": "markdown",
   "id": "5c7c1f95",
   "metadata": {},
   "source": [
    "## **Case do projeto :**\n",
    "Objetivo é construir um modelo capaz de prever a demanda de produtos e assim ajudar uma empresa a otimizar suas decisoes de logística. \n",
    "\n",
    "A previsao de demanda é usado para prever as demandas dos clientes para otimizar as decisioes de fornecimento(logística). Podemos responder algumas perguntar como : Quantos produtos a empresa deve ter em esto que ? Com que frequencia eles devem ser reabastecidos.\n",
    "\n",
    "Vamos aplicar 3 modelos : SARIAMX, prohet e XGBoost com diversas comaprações\n",
    "\n"
   ]
  },
  {
   "cell_type": "markdown",
   "id": "556d9042",
   "metadata": {},
   "source": []
  }
 ],
 "metadata": {
  "language_info": {
   "name": "python"
  }
 },
 "nbformat": 4,
 "nbformat_minor": 5
}
